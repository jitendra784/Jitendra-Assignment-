{
  "cells": [
    {
      "cell_type": "markdown",
      "metadata": {
        "id": "view-in-github",
        "colab_type": "text"
      },
      "source": [
        "<a href=\"https://colab.research.google.com/github/jitendra784/Jitendra-Assignment-/blob/main/Jitendra.ipynb\" target=\"_parent\"><img src=\"https://colab.research.google.com/assets/colab-badge.svg\" alt=\"Open In Colab\"/></a>"
      ]
    },
    {
      "cell_type": "code",
      "execution_count": 4,
      "metadata": {
        "id": "HXyQVjn5VCFT"
      },
      "outputs": [],
      "source": [
        "import random\n",
        "import matplotlib.pyplot as plt"
      ]
    },
    {
      "cell_type": "markdown",
      "source": [
        "In this phrase we imported random library in python .It is a collection of functions for creating random numbers can be found in Python's random library.\n",
        "\n",
        "It is used in various application such as:-\n",
        "\n",
        "1) Generating Random Numbers\n",
        "Ex. -      \n",
        "    import random\n",
        "* #Random integer between 1 and 10 (inclusive)   \n",
        "    random_number = random.randint(1, 10)\n",
        "\n",
        "\n",
        "2)Generating Random Passwords  \n",
        "3)Simulating Random Events(Coin Toss)    \n",
        "4)Picking Random Elements\n",
        "\n",
        "     \n",
        "import matplotlib.pyplot: This part of the statement imports the pyplot module from the Matplotlib library. Matplotlib is a popular 2D plotting library for Python, and pyplot provides a simple interface for creating various types of plots.\n",
        "\n",
        "\n",
        " as plt: This part of the statement assigns an alias to the imported module. In this case, plt is a commonly used alias for pyplot. By using an alias, you can refer to the module using a shorter name in your code, making it more concise and readable."
      ],
      "metadata": {
        "id": "Za7s_ObuZPS1"
      }
    },
    {
      "cell_type": "code",
      "execution_count": 3,
      "metadata": {
        "id": "3vAeQvqxYQQc"
      },
      "outputs": [],
      "source": [
        "mapping_dict = dict(zip(range(0,10),range(0,10)))"
      ]
    },
    {
      "cell_type": "markdown",
      "source": [
        "We create dictionary by mapping_dict in Python using the zip function and the range function.\n",
        "\n",
        "range(0, 10): This creates a range function and sequenceof numbers from 0 to 9.\n",
        "\n",
        "zip(range(0, 10), range(0, 10)): The zip function combines two or more iterables element-wise. Here, it combines two ranges. It pairs the first element of the first range with the first element of the second range, the second element with the second element, and so on.\n",
        "\n",
        "dict(): The dict function then converts the pairs created by zip into a dictionary. Each pair becomes a key-value pair in the dictionary."
      ],
      "metadata": {
        "id": "NDKnTO1TgPCm"
      }
    },
    {
      "cell_type": "code",
      "execution_count": 5,
      "metadata": {
        "colab": {
          "base_uri": "https://localhost:8080/"
        },
        "id": "oBzWrsy2nsoC",
        "outputId": "51ca802e-ab73-4895-cfc4-d4b3e4e88f27"
      },
      "outputs": [
        {
          "output_type": "execute_result",
          "data": {
            "text/plain": [
              "{0: 0, 1: 1, 2: 2, 3: 3, 4: 4, 5: 5, 6: 6, 7: 7, 8: 8, 9: 9}"
            ]
          },
          "metadata": {},
          "execution_count": 5
        }
      ],
      "source": [
        "mapping_dict"
      ]
    },
    {
      "cell_type": "code",
      "execution_count": 6,
      "metadata": {
        "id": "ghEVfaoApjSN"
      },
      "outputs": [],
      "source": [
        "for k in mapping_dict.keys():\n",
        "\n",
        "  mapping_dict[k] = str(mapping_dict[k])"
      ]
    },
    {
      "cell_type": "markdown",
      "source": [
        "mapping_dict.keys(): This returns a view of all the keys in the mapping_dict dictionary.\n",
        "\n",
        "for k in mapping_dict.keys():: This is a for loop that iterates through each key in the set of keys.\n",
        "\n",
        "mapping_dict[k] = str(mapping_dict[k]): For each key (k), it takes the corresponding value (mapping_dict[k]), converts it to a string using the str() function, and then updates the value associated with that key in the mapping_dict dictionary."
      ],
      "metadata": {
        "id": "EeCOwY3sjJ_7"
      }
    },
    {
      "cell_type": "code",
      "execution_count": 7,
      "metadata": {
        "colab": {
          "base_uri": "https://localhost:8080/"
        },
        "id": "VKAyIsW6q_qS",
        "outputId": "df41b1a2-51c5-4ce5-c569-7f3e85785288"
      },
      "outputs": [
        {
          "output_type": "execute_result",
          "data": {
            "text/plain": [
              "{0: '0',\n",
              " 1: '1',\n",
              " 2: '2',\n",
              " 3: '3',\n",
              " 4: '4',\n",
              " 5: '5',\n",
              " 6: '6',\n",
              " 7: '7',\n",
              " 8: '8',\n",
              " 9: '9'}"
            ]
          },
          "metadata": {},
          "execution_count": 7
        }
      ],
      "source": [
        "mapping_dict"
      ]
    },
    {
      "cell_type": "code",
      "execution_count": 8,
      "metadata": {
        "id": "GowosEpVrXfK"
      },
      "outputs": [],
      "source": [
        "for i in range(0,26):\n",
        "  mapping_dict[10+i] = chr(65+i)"
      ]
    },
    {
      "cell_type": "markdown",
      "source": [
        "for i in range(0, 26):: This is a for loop that iterates through the values i from 0 to 25 using range function.\n",
        "\n",
        "mapping_dict[10 + i] = chr(65 + i):\n",
        "\n",
        "Example :  For i = 0:\n",
        "\n",
        "Key: 10 + 0 = 10    \n",
        "Value: chr(65 + 0) = 'A'     \n",
        "\n",
        "                                                   \n",
        "For i = 1:  \n",
        "Key: 10 + 1 = 11    \n",
        "Value: chr(65 + 1) = 'B'    \n",
        " Here, 65 is the ASCII code for the uppercase letter 'A', and chr() converts the ASCII code to its corresponding character.\n",
        "\n"
      ],
      "metadata": {
        "id": "TVEKlY-yjaBX"
      }
    },
    {
      "cell_type": "code",
      "execution_count": 9,
      "metadata": {
        "colab": {
          "base_uri": "https://localhost:8080/"
        },
        "id": "beprdUCauVOp",
        "outputId": "47cd9afc-11ba-4ddb-953a-7f532d76cc51"
      },
      "outputs": [
        {
          "output_type": "execute_result",
          "data": {
            "text/plain": [
              "{0: '0',\n",
              " 1: '1',\n",
              " 2: '2',\n",
              " 3: '3',\n",
              " 4: '4',\n",
              " 5: '5',\n",
              " 6: '6',\n",
              " 7: '7',\n",
              " 8: '8',\n",
              " 9: '9',\n",
              " 10: 'A',\n",
              " 11: 'B',\n",
              " 12: 'C',\n",
              " 13: 'D',\n",
              " 14: 'E',\n",
              " 15: 'F',\n",
              " 16: 'G',\n",
              " 17: 'H',\n",
              " 18: 'I',\n",
              " 19: 'J',\n",
              " 20: 'K',\n",
              " 21: 'L',\n",
              " 22: 'M',\n",
              " 23: 'N',\n",
              " 24: 'O',\n",
              " 25: 'P',\n",
              " 26: 'Q',\n",
              " 27: 'R',\n",
              " 28: 'S',\n",
              " 29: 'T',\n",
              " 30: 'U',\n",
              " 31: 'V',\n",
              " 32: 'W',\n",
              " 33: 'X',\n",
              " 34: 'Y',\n",
              " 35: 'Z'}"
            ]
          },
          "metadata": {},
          "execution_count": 9
        }
      ],
      "source": [
        "mapping_dict"
      ]
    },
    {
      "cell_type": "code",
      "execution_count": 10,
      "metadata": {
        "id": "KPGkS2NXVMGn"
      },
      "outputs": [],
      "source": [
        "sample_size = 5000000\n",
        "#This means sample_size is defined as 50 Lakh\n",
        "random_numbers = list()\n",
        "\n",
        "for i in range(0,sample_size):\n",
        "\n",
        "  blank_str = str()\n",
        "\n",
        "  random_digit = random.randint(0,35)\n",
        "  blank_str = blank_str + mapping_dict[random_digit]\n",
        "\n",
        "  random_digit = random.randint(0,35)\n",
        "  blank_str = blank_str + mapping_dict[random_digit]\n",
        "\n",
        "  for i in range(0,8):\n",
        "    coin_toss = random.randint(0,1)\n",
        "\n",
        "    if coin_toss == 1:\n",
        "\n",
        "      random_digit = random.randint(0,35)\n",
        "      blank_str = blank_str + mapping_dict[random_digit]\n",
        "\n",
        "    else:\n",
        "      break\n",
        "\n",
        "  random_numbers.append(blank_str)"
      ]
    },
    {
      "cell_type": "markdown",
      "source": [
        "sample_size = 5000000: This sets the variable sample_size to 5,000,000, indicating the desired number of random strings to generate.\n",
        "\n",
        "random_numbers = list(): Initializes an empty list named random_numbers where the generated random strings will be stored.\n",
        "\n",
        "for i in range(0, sample_size):: Initiates a loop that will run sample_size times, generating random strings in each iteration.\n",
        "\n",
        "blank_str = str(): Initializes an empty string named blank_str to store the generated random string for each iteration.\n",
        "\n",
        "random_digit = random.randint(0, 35): Generates a random integer between 0 and 35  and uses it to index into mapping_dict to get a corresponding uppercase letter. This process is repeated twice to get the first two characters of the random string.\n",
        "\n",
        "Nested Loop (for i in range(0, 8):): Initiates a nested loop to generate additional characters for the random string. It performs a coin toss (0 or 1), and if the result is 1, it adds another random character to the string. The loop continues until either 8 characters are added or a coin toss results in 0.\n",
        "\n",
        "random_numbers.append(blank_str): Appends the generated random string (blank_str) to the list random_numbers"
      ],
      "metadata": {
        "id": "AW__beLJAaPW"
      }
    },
    {
      "cell_type": "code",
      "execution_count": 11,
      "metadata": {
        "id": "Q2nV3-Jgv-GR"
      },
      "outputs": [],
      "source": [
        "reverse_mapping_dict = dict()\n",
        "\n",
        "for k in mapping_dict.keys():\n",
        "  reverse_mapping_dict[mapping_dict[k]] = k"
      ]
    },
    {
      "cell_type": "markdown",
      "source": [
        "reverse_mapping_dict = dict(): It Initializes an empty dictionary . This dictionary will store the reversed mapping where values from mapping_dict become keys, and keys become values.\n",
        "\n",
        "for k in mapping_dict.keys():: Initiates a loop that iterates through the keys of the original dictionary (mapping_dict).\n",
        "\n",
        "reverse_mapping_dict[mapping_dict[k]] = k:\n",
        "\n",
        "Inside the loop, for each key k in mapping_dict:\n",
        "mapping_dict[k] retrieves the value associated with the key k in mapping_dict.  \n",
        "\n",
        "reverse_mapping_dict[mapping_dict[k]] = k creates a new key-value pair in reverse_mapping_dict.    \n",
        " The value from mapping_dict becomes the key in reverse_mapping_dict, and the original key k becomes the value in reverse_mapping_dict.     \n",
        "This essentially swaps the keys and values between the two dictionaries."
      ],
      "metadata": {
        "id": "_aplIwkOBfMa"
      }
    },
    {
      "cell_type": "code",
      "source": [
        "reverse_mapping_dict"
      ],
      "metadata": {
        "colab": {
          "base_uri": "https://localhost:8080/"
        },
        "id": "jnKlIoRCA2qV",
        "outputId": "8e4cece6-b5db-43df-a6c8-82823165a110"
      },
      "execution_count": 12,
      "outputs": [
        {
          "output_type": "execute_result",
          "data": {
            "text/plain": [
              "{'0': 0,\n",
              " '1': 1,\n",
              " '2': 2,\n",
              " '3': 3,\n",
              " '4': 4,\n",
              " '5': 5,\n",
              " '6': 6,\n",
              " '7': 7,\n",
              " '8': 8,\n",
              " '9': 9,\n",
              " 'A': 10,\n",
              " 'B': 11,\n",
              " 'C': 12,\n",
              " 'D': 13,\n",
              " 'E': 14,\n",
              " 'F': 15,\n",
              " 'G': 16,\n",
              " 'H': 17,\n",
              " 'I': 18,\n",
              " 'J': 19,\n",
              " 'K': 20,\n",
              " 'L': 21,\n",
              " 'M': 22,\n",
              " 'N': 23,\n",
              " 'O': 24,\n",
              " 'P': 25,\n",
              " 'Q': 26,\n",
              " 'R': 27,\n",
              " 'S': 28,\n",
              " 'T': 29,\n",
              " 'U': 30,\n",
              " 'V': 31,\n",
              " 'W': 32,\n",
              " 'X': 33,\n",
              " 'Y': 34,\n",
              " 'Z': 35}"
            ]
          },
          "metadata": {},
          "execution_count": 12
        }
      ]
    },
    {
      "cell_type": "code",
      "execution_count": null,
      "metadata": {
        "id": "ba745hqvyubF"
      },
      "outputs": [],
      "source": [
        "base_frequency = dict()\n",
        "\n",
        "for blank_str in random_numbers:\n",
        "  highest_digit = max(blank_str)\n",
        "  highest_base = reverse_mapping_dict[highest_digit] + 1\n",
        "\n",
        "  if highest_base in base_frequency.keys():\n",
        "    base_frequency[highest_base] += (1/sample_size)\n",
        "  else:\n",
        "    base_frequency[highest_base] = (1/sample_size)"
      ]
    },
    {
      "cell_type": "markdown",
      "source": [
        "This Python code is calculating the frequency distribution of the highest base (maximum digit) in a set of random strings (random_numbers). It uses a dictionary (base_frequency) to store the frequency of each highest base.\n",
        "\n",
        "1) base_frequency = dict():\n",
        "\n",
        "Initializes an empty dictionary named base_frequency. This dictionary will store the frequency of each highest base.\n",
        "\n",
        "2)for blank_str in random_numbers::\n",
        "\n",
        "Initiates a loop that iterates through each string (blank_str) in the list random_numbers.\n",
        "\n",
        "3)highest_digit = max(blank_str):\n",
        "\n",
        "Finds the highest digit (character) in the current string using the max function. This assumes that the characters in the string represent digits.\n",
        "\n",
        "4)highest_base = reverse_mapping_dict[highest_digit] + 1:\n",
        "\n",
        "Uses the reverse_mapping_dict to find the original base (integer value) corresponding to the highest digit. Adds 1 to it to obtain the highest base.\n",
        "\n",
        "5)Frequency Calculation:\n",
        "\n",
        "if highest_base in base_frequency.keys()::\n",
        "Checks if the highest_base is already a key in base_frequency. If it increments its value by (1/sample_size), representing the frequency of that highest base in the current iteration.\n",
        "else::\n",
        "If the highest_base is not already a key in base_frequency, it adds a new key-value pair to base_frequency with the key being highest_base and the value set to (1/sample_size)"
      ],
      "metadata": {
        "id": "dOXz2CXkCsHf"
      }
    },
    {
      "cell_type": "code",
      "source": [
        "plt.bar(x=base_frequency.keys(),height=base_frequency.values())"
      ],
      "metadata": {
        "id": "1Tofc60-WSDf",
        "colab": {
          "base_uri": "https://localhost:8080/",
          "height": 447
        },
        "outputId": "079cb430-2555-4124-85be-d5e1c780dcc8"
      },
      "execution_count": null,
      "outputs": [
        {
          "output_type": "execute_result",
          "data": {
            "text/plain": [
              "<BarContainer object of 36 artists>"
            ]
          },
          "metadata": {},
          "execution_count": 22
        },
        {
          "output_type": "display_data",
          "data": {
            "text/plain": [
              "<Figure size 640x480 with 1 Axes>"
            ],
            "image/png": "[encoded data removed]"
          },
          "metadata": {}
        }
      ]
    },
    {
      "cell_type": "markdown",
      "source": [
        "1)plt.bar():\n",
        "\n",
        "This is a function call to matplotlib.pyplot.bar(), which is used to create a bar chart.\n",
        "\n",
        "2)x=base_frequency.keys():\n",
        "\n",
        "Specifies the x-axis values for the bar chart. In this case, it uses the keys of the base_frequency dictionary as the x-axis values.\n",
        "\n",
        "3)height=base_frequency.values():\n",
        "\n",
        "Specifies the heights of the bars on the y-axis. It uses the values of the base_frequency dictionary as the heights."
      ],
      "metadata": {
        "id": "UWu-dDqaFfio"
      }
    }
  ],
  "metadata": {
    "colab": {
      "provenance": [],
      "include_colab_link": true
    },
    "kernelspec": {
      "display_name": "Python 3",
      "name": "python3"
    },
    "language_info": {
      "name": "python"
    }
  },
  "nbformat": 4,
  "nbformat_minor": 0
}